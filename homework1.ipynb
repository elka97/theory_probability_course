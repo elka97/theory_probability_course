{
  "nbformat": 4,
  "nbformat_minor": 0,
  "metadata": {
    "colab": {
      "name": "homework1.ipynb",
      "provenance": [],
      "collapsed_sections": [],
      "authorship_tag": "ABX9TyOlyFFDCISU6u/2rbznb1iC",
      "include_colab_link": true
    },
    "kernelspec": {
      "name": "python3",
      "display_name": "Python 3"
    },
    "language_info": {
      "name": "python"
    }
  },
  "cells": [
    {
      "cell_type": "markdown",
      "metadata": {
        "id": "view-in-github",
        "colab_type": "text"
      },
      "source": [
        "<a href=\"https://colab.research.google.com/github/elka97/theory_probability_course/blob/main/homework1.ipynb\" target=\"_parent\"><img src=\"https://colab.research.google.com/assets/colab-badge.svg\" alt=\"Open In Colab\"/></a>"
      ]
    },
    {
      "cell_type": "markdown",
      "metadata": {
        "id": "qvTbim8w-mBz"
      },
      "source": [
        "Урок 1. Случайные события. Условная вероятность. Формула Байеса. Независимые испытания"
      ]
    },
    {
      "cell_type": "code",
      "metadata": {
        "id": "O0F6e97JFDwq"
      },
      "source": [
        "from math import factorial\n",
        "\n",
        "def combinations(n, k):\n",
        "    return int(factorial(n) / (factorial(k) * factorial(n - k)))\n",
        "def arrangements(n, k):\n",
        "    return int(factorial(n) / factorial(n - k))\n",
        "def permutations(n):\n",
        "    return int(factorial(n))"
      ],
      "execution_count": 104,
      "outputs": []
    },
    {
      "cell_type": "markdown",
      "metadata": {
        "id": "UfY57m2VtERq"
      },
      "source": [
        "**Из колоды в 52 карты извлекаются случайным образом 4 карты. Найти вероятность того, что все карты – крести. Найти вероятность, что среди 4-х карт окажется хотя бы один туз.**"
      ]
    },
    {
      "cell_type": "code",
      "metadata": {
        "id": "Ihouuvh5Yrh2"
      },
      "source": [
        " #52/4 = 13 colors"
      ],
      "execution_count": 105,
      "outputs": []
    },
    {
      "cell_type": "code",
      "metadata": {
        "colab": {
          "base_uri": "https://localhost:8080/"
        },
        "id": "X2rmfE0TCBXW",
        "outputId": "025d3a6e-32b8-40b2-81be-f80e7a83fbde"
      },
      "source": [
        "p=(13/52)*(12/51)*(11/50)*(10/49)\n",
        "p # вероятность того, что все карты – крести"
      ],
      "execution_count": 106,
      "outputs": [
        {
          "output_type": "execute_result",
          "data": {
            "text/plain": [
              "0.0026410564225690276"
            ]
          },
          "metadata": {
            "tags": []
          },
          "execution_count": 106
        }
      ]
    },
    {
      "cell_type": "code",
      "metadata": {
        "colab": {
          "base_uri": "https://localhost:8080/"
        },
        "id": "2Kxrp3x8A_R5",
        "outputId": "4147854c-0d5b-4cee-8e32-60ff10ac9746"
      },
      "source": [
        "c1 = combinations(4,1) * combinations(48,3) #среди выбранных один туз и оставшиеся - не тузы\n",
        "c2 = combinations(4,2) * combinations(48,2) #среди выбранных два туза и оставшиеся - не тузы\n",
        "c3 = combinations(4,3) * combinations(48,1) #среди выбранных три туза и оставшиеся - не тузы\n",
        "c4 = combinations(4,4) * combinations(48,0) #среди выбранных четыре туза и оставшиеся - не тузы\n",
        "m = c1 + c2 + c3 + c4\n",
        "m # число исходов, благоприятствующих нашему событию"
      ],
      "execution_count": 107,
      "outputs": [
        {
          "output_type": "execute_result",
          "data": {
            "text/plain": [
              "76145"
            ]
          },
          "metadata": {
            "tags": []
          },
          "execution_count": 107
        }
      ]
    },
    {
      "cell_type": "code",
      "metadata": {
        "colab": {
          "base_uri": "https://localhost:8080/"
        },
        "id": "3jq5J6sYBZIW",
        "outputId": "47b409c9-270e-4f0a-b174-586bb9ebd8ea"
      },
      "source": [
        "n = combinations(52, 4)\n",
        "n #общее число исходов"
      ],
      "execution_count": 108,
      "outputs": [
        {
          "output_type": "execute_result",
          "data": {
            "text/plain": [
              "270725"
            ]
          },
          "metadata": {
            "tags": []
          },
          "execution_count": 108
        }
      ]
    },
    {
      "cell_type": "code",
      "metadata": {
        "colab": {
          "base_uri": "https://localhost:8080/"
        },
        "id": "-tVFKaOJBmtA",
        "outputId": "8cfacdec-08be-42ff-bc83-ac54a09f3a44"
      },
      "source": [
        "p= m/n\n",
        "p #вероятность, что среди 4-х карт окажется хотя бы один туз."
      ],
      "execution_count": 109,
      "outputs": [
        {
          "output_type": "execute_result",
          "data": {
            "text/plain": [
              "0.2812632745405855"
            ]
          },
          "metadata": {
            "tags": []
          },
          "execution_count": 109
        }
      ]
    },
    {
      "cell_type": "markdown",
      "metadata": {
        "id": "RNFqesnVEMiV"
      },
      "source": [
        "**2. На входной двери подъезда установлен кодовый замок, содержащий десять кнопок с цифрами от 0 до 9. Код содержит три цифры, которые нужно нажать одновременно. Какова вероятность того, что человек, не знающий код, откроет дверь с первой попытки?**\n"
      ]
    },
    {
      "cell_type": "code",
      "metadata": {
        "colab": {
          "base_uri": "https://localhost:8080/"
        },
        "id": "4nID8Xo1fEVy",
        "outputId": "2584ab79-4194-4ff0-aceb-ce113d9b4036"
      },
      "source": [
        "m = 1 #число исходов благоприятствующих нашему событию\n",
        "p = m / combinations(10, 3) #общее число исходов\n",
        "p # вероятность того, что человек, не знающий код, откроет дверь с первой попытки"
      ],
      "execution_count": 110,
      "outputs": [
        {
          "output_type": "execute_result",
          "data": {
            "text/plain": [
              "0.008333333333333333"
            ]
          },
          "metadata": {
            "tags": []
          },
          "execution_count": 110
        }
      ]
    },
    {
      "cell_type": "markdown",
      "metadata": {
        "id": "E4pDy0uyCwAn"
      },
      "source": [
        "**3. В ящике имеется 15 деталей, из которых 9 окрашены. Рабочий случайным образом извлекает 3 детали. Какова вероятность того, что все извлеченные детали окрашены?**\n"
      ]
    },
    {
      "cell_type": "code",
      "metadata": {
        "colab": {
          "base_uri": "https://localhost:8080/"
        },
        "id": "vrxvUSVKicP3",
        "outputId": "11ef8cfb-4551-4e02-bcad-55dd33b4f6d0"
      },
      "source": [
        "n = combinations(15, 3)\n",
        "n #общее число исходов"
      ],
      "execution_count": 111,
      "outputs": [
        {
          "output_type": "execute_result",
          "data": {
            "text/plain": [
              "455"
            ]
          },
          "metadata": {
            "tags": []
          },
          "execution_count": 111
        }
      ]
    },
    {
      "cell_type": "code",
      "metadata": {
        "colab": {
          "base_uri": "https://localhost:8080/"
        },
        "id": "FpveI0NyjWoe",
        "outputId": "1089727c-6543-49e8-c85d-d738588ae6e0"
      },
      "source": [
        "m = combinations(9,3) #среди выбранных три окрашены и оставшиеся - не окрашены\n",
        "m # число исходов, благоприятствующих нашему событию"
      ],
      "execution_count": 112,
      "outputs": [
        {
          "output_type": "execute_result",
          "data": {
            "text/plain": [
              "84"
            ]
          },
          "metadata": {
            "tags": []
          },
          "execution_count": 112
        }
      ]
    },
    {
      "cell_type": "code",
      "metadata": {
        "colab": {
          "base_uri": "https://localhost:8080/"
        },
        "id": "LRqZJCAykaVJ",
        "outputId": "9a67656b-6f3b-4b13-ce63-6b5e6299ac17"
      },
      "source": [
        "p=m/n\n",
        "p #вероятность того, что все извлеченные детали окрашены"
      ],
      "execution_count": 113,
      "outputs": [
        {
          "output_type": "execute_result",
          "data": {
            "text/plain": [
              "0.18461538461538463"
            ]
          },
          "metadata": {
            "tags": []
          },
          "execution_count": 113
        }
      ]
    },
    {
      "cell_type": "markdown",
      "metadata": {
        "id": "2iwwZA-YCxnF"
      },
      "source": [
        "**4. В лотерее 100 билетов. Из них 2 выигрышных. Какова вероятность того, что 2 приобретенных билета окажутся выигрышными?**"
      ]
    },
    {
      "cell_type": "code",
      "metadata": {
        "colab": {
          "base_uri": "https://localhost:8080/"
        },
        "id": "7n4u4sC8nTZO",
        "outputId": "e0876d16-3f76-491e-e816-35901ca61842"
      },
      "source": [
        "n=combinations(100, 2)\n",
        "n #общее число исходов"
      ],
      "execution_count": 114,
      "outputs": [
        {
          "output_type": "execute_result",
          "data": {
            "text/plain": [
              "4950"
            ]
          },
          "metadata": {
            "tags": []
          },
          "execution_count": 114
        }
      ]
    },
    {
      "cell_type": "code",
      "metadata": {
        "id": "tjPsE9hAneyj"
      },
      "source": [
        "m = combinations(2,2) # 2 приобретенных билета окажутся выигрышными\n",
        "m=1 # число исходов, благоприятствующих нашему событию"
      ],
      "execution_count": 115,
      "outputs": []
    },
    {
      "cell_type": "code",
      "metadata": {
        "colab": {
          "base_uri": "https://localhost:8080/"
        },
        "id": "yrJNzcq-oo4M",
        "outputId": "d0501745-f6a2-48d9-ce61-f27cc65b4d9c"
      },
      "source": [
        "p=m/n\n",
        "p #вероятность того, что 2 приобретенных билета окажутся выигрышными"
      ],
      "execution_count": 116,
      "outputs": [
        {
          "output_type": "execute_result",
          "data": {
            "text/plain": [
              "0.00020202020202020202"
            ]
          },
          "metadata": {
            "tags": []
          },
          "execution_count": 116
        }
      ]
    }
  ]
}