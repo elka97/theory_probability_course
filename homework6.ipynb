{
  "nbformat": 4,
  "nbformat_minor": 0,
  "metadata": {
    "colab": {
      "name": "homework6.ipynb",
      "provenance": [],
      "collapsed_sections": [],
      "authorship_tag": "ABX9TyMto7NbjBZUByn5+V8MpHf5",
      "include_colab_link": true
    },
    "kernelspec": {
      "name": "python3",
      "display_name": "Python 3"
    },
    "language_info": {
      "name": "python"
    }
  },
  "cells": [
    {
      "cell_type": "markdown",
      "metadata": {
        "id": "view-in-github",
        "colab_type": "text"
      },
      "source": [
        "<a href=\"https://colab.research.google.com/github/elka97/theory_probability_course/blob/main/homework6.ipynb\" target=\"_parent\"><img src=\"https://colab.research.google.com/assets/colab-badge.svg\" alt=\"Open In Colab\"/></a>"
      ]
    },
    {
      "cell_type": "markdown",
      "metadata": {
        "id": "qvTbim8w-mBz"
      },
      "source": [
        "Урок 6. Взаимосвязь величин. Параметрические и непараметрические показатели корреляции. Корреляционный анализ."
      ]
    },
    {
      "cell_type": "code",
      "metadata": {
        "id": "O0F6e97JFDwq"
      },
      "source": [
        "from math import factorial as factorial\n",
        "import numpy as np\n",
        "import pandas as pd\n",
        "import scipy.stats as st\n",
        "from scipy.stats import norm"
      ],
      "execution_count": 2,
      "outputs": []
    },
    {
      "cell_type": "markdown",
      "metadata": {
        "id": "UfY57m2VtERq"
      },
      "source": [
        "**1. Даны значения величины заработной платы заемщиков банка (zp) и значения их поведенческого кредитного скоринга (ks):\n",
        "zp = [35, 45, 190, 200, 40, 70, 54, 150, 120, 110],\n",
        "ks = [401, 574, 874, 919, 459, 739, 653, 902, 746, 832].\n",
        "Найдите ковариацию этих двух величин с помощью элементарных действий, а затем с помощью функции cov из numpy\n",
        "Полученные значения должны быть равны.\n",
        "Найдите коэффициент корреляции Пирсона с помощью ковариации и среднеквадратичных отклонений двух признаков,\n",
        "а затем с использованием функций из библиотек numpy и pandas.**"
      ]
    },
    {
      "cell_type": "code",
      "metadata": {
        "id": "N3eJWKR9TgB1"
      },
      "source": [
        "zp = np.array([35, 45, 190, 200, 40, 70, 54, 150, 120, 110])\n",
        "ks = np.array([401, 574, 874, 919, 459, 739, 653, 902, 746, 832])"
      ],
      "execution_count": 4,
      "outputs": []
    },
    {
      "cell_type": "code",
      "metadata": {
        "colab": {
          "base_uri": "https://localhost:8080/"
        },
        "id": "wglierh87u2n",
        "outputId": "4603a465-9b1a-45b6-cf0d-d0414c4b26de"
      },
      "source": [
        "x = zp.mean()\n",
        "y = ks.mean()\n",
        "xy = (zp * ks).mean()\n",
        "\n",
        "cov1 = xy - x * y\n",
        "cov1 # ковариацию"
      ],
      "execution_count": 18,
      "outputs": [
        {
          "output_type": "execute_result",
          "data": {
            "text/plain": [
              "9157.839999999997"
            ]
          },
          "metadata": {},
          "execution_count": 18
        }
      ]
    },
    {
      "cell_type": "code",
      "metadata": {
        "colab": {
          "base_uri": "https://localhost:8080/"
        },
        "id": "aqeUvANk75dg",
        "outputId": "6c9642da-397d-4407-ed9a-ba4baf8c29f5"
      },
      "source": [
        "np.cov(zp, ks, ddof=0) # ковариацию"
      ],
      "execution_count": 19,
      "outputs": [
        {
          "output_type": "execute_result",
          "data": {
            "text/plain": [
              "array([[ 3494.64,  9157.84],\n",
              "       [ 9157.84, 30468.89]])"
            ]
          },
          "metadata": {},
          "execution_count": 19
        }
      ]
    },
    {
      "cell_type": "code",
      "metadata": {
        "colab": {
          "base_uri": "https://localhost:8080/"
        },
        "id": "y857rDwZ7_Mq",
        "outputId": "65bf77d3-78c3-49fc-dc53-6429637a569c"
      },
      "source": [
        "cov2 = ((zp - zp.mean()) * (ks - ks.mean())).mean()\n",
        "cov2 # ковариацию"
      ],
      "execution_count": 20,
      "outputs": [
        {
          "output_type": "execute_result",
          "data": {
            "text/plain": [
              "9157.84"
            ]
          },
          "metadata": {},
          "execution_count": 20
        }
      ]
    },
    {
      "cell_type": "code",
      "metadata": {
        "colab": {
          "base_uri": "https://localhost:8080/"
        },
        "id": "rM5TX2OY8GtQ",
        "outputId": "fcae0591-3a5f-4387-e404-5e8582abe639"
      },
      "source": [
        "std_x = zp.std()\n",
        "std_y = ks.std()\n",
        "\n",
        "corr_pearson = cov1 / (std_x * std_y)\n",
        "corr_pearson # коэффициент корреляции Пирсона"
      ],
      "execution_count": 22,
      "outputs": [
        {
          "output_type": "execute_result",
          "data": {
            "text/plain": [
              "0.8874900920739158"
            ]
          },
          "metadata": {},
          "execution_count": 22
        }
      ]
    },
    {
      "cell_type": "code",
      "metadata": {
        "colab": {
          "base_uri": "https://localhost:8080/"
        },
        "id": "KDH_S-qn8JOI",
        "outputId": "560baec5-f150-490f-b987-98fe8286fcc5"
      },
      "source": [
        "np.corrcoef(zp, ks) # коэффициент корреляции Пирсона"
      ],
      "execution_count": 23,
      "outputs": [
        {
          "output_type": "execute_result",
          "data": {
            "text/plain": [
              "array([[1.        , 0.88749009],\n",
              "       [0.88749009, 1.        ]])"
            ]
          },
          "metadata": {},
          "execution_count": 23
        }
      ]
    },
    {
      "cell_type": "markdown",
      "metadata": {
        "id": "RNFqesnVEMiV"
      },
      "source": [
        "**2. Измерены значения IQ выборки студентов,\n",
        "обучающихся в местных технических вузах:\n",
        "131, 125, 115, 122, 131, 115, 107, 99, 125, 111.\n",
        "Известно, что в генеральной совокупности IQ распределен нормально.\n",
        "Найдите доверительный интервал для математического ожидания с надежностью 0.95.**\n"
      ]
    },
    {
      "cell_type": "code",
      "metadata": {
        "colab": {
          "base_uri": "https://localhost:8080/"
        },
        "id": "JhnWVQMPGUYY",
        "outputId": "cca5a535-a8e6-4284-d050-d912b951c411"
      },
      "source": [
        "data = [131, 125, 115, 122, 131, 115, 107, 99, 125, 111]\n",
        "\n",
        "st.t.interval(alpha=0.95, df=len(data)-1, loc=np.mean(data), scale=st.sem(data)) "
      ],
      "execution_count": 25,
      "outputs": [
        {
          "output_type": "execute_result",
          "data": {
            "text/plain": [
              "(110.55608365158724, 125.64391634841274)"
            ]
          },
          "metadata": {},
          "execution_count": 25
        }
      ]
    },
    {
      "cell_type": "markdown",
      "metadata": {
        "id": "E4pDy0uyCwAn"
      },
      "source": [
        "**3. Известно, что рост футболистов в сборной распределен нормально\n",
        "с дисперсией генеральной совокупности, равной 25 кв.см. Объем выборки равен 27,\n",
        "среднее выборочное составляет 174.2. Найдите доверительный интервал для математического ожидания с надежностью 0.95.**\n",
        "\n"
      ]
    },
    {
      "cell_type": "code",
      "metadata": {
        "colab": {
          "base_uri": "https://localhost:8080/"
        },
        "id": "hNX4Ec6q-SZ_",
        "outputId": "f3f9a88a-5124-4bd4-bc3c-a8eab3e46639"
      },
      "source": [
        "sigma=5\n",
        "M=174.2\n",
        "n=27\n",
        "\n",
        "st.norm.interval(alpha=0.95, loc=M, scale=sigma/np.sqrt(n))"
      ],
      "execution_count": 26,
      "outputs": [
        {
          "output_type": "execute_result",
          "data": {
            "text/plain": [
              "(172.3140237765397, 176.08597622346028)"
            ]
          },
          "metadata": {},
          "execution_count": 26
        }
      ]
    }
  ]
}