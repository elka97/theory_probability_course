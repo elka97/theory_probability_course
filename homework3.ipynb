{
  "nbformat": 4,
  "nbformat_minor": 0,
  "metadata": {
    "colab": {
      "name": "homework3.ipynb",
      "provenance": [],
      "collapsed_sections": [],
      "authorship_tag": "ABX9TyPcKzaSxTcSCPYIf3wG1GbF",
      "include_colab_link": true
    },
    "kernelspec": {
      "name": "python3",
      "display_name": "Python 3"
    },
    "language_info": {
      "name": "python"
    }
  },
  "cells": [
    {
      "cell_type": "markdown",
      "metadata": {
        "id": "view-in-github",
        "colab_type": "text"
      },
      "source": [
        "<a href=\"https://colab.research.google.com/github/elka97/theory_probability_course/blob/main/homework3.ipynb\" target=\"_parent\"><img src=\"https://colab.research.google.com/assets/colab-badge.svg\" alt=\"Open In Colab\"/></a>"
      ]
    },
    {
      "cell_type": "markdown",
      "metadata": {
        "id": "qvTbim8w-mBz"
      },
      "source": [
        "Урок 3. Описательная статистика. Качественные и количественные характеристики популяции. Графическое представление данных"
      ]
    },
    {
      "cell_type": "code",
      "metadata": {
        "id": "O0F6e97JFDwq"
      },
      "source": [
        "from math import factorial as factorial\n",
        "import numpy as np\n",
        "import pandas as pd\n",
        "\n",
        "# сочетания\n",
        "def combinations(n, k):\n",
        "    return int(factorial(n) / (factorial(k) * factorial(n - k)))\n",
        "\n",
        "def puasson(m, n, p):\n",
        "    lambda_ = n * p\n",
        "    return (lambda_**m / factorial(m)) * np.exp(-lambda_)\n",
        "\n",
        "def bernulli(k, n, p):\n",
        "    q = 1 - p\n",
        "    return combinations(n, k) * p**k * q**(n - k)"
      ],
      "execution_count": 2,
      "outputs": []
    },
    {
      "cell_type": "markdown",
      "metadata": {
        "id": "voUDMUq0RWKc"
      },
      "source": [
        "$$\\sigma = \\sqrt{\\frac{\\sum\\limits_{i=1}^{n} (x_i - \\overline{x})^2}{n}}$$ "
      ]
    },
    {
      "cell_type": "markdown",
      "metadata": {
        "id": "UfY57m2VtERq"
      },
      "source": [
        "**1. Даны значения зарплат из выборки выпускников: 100, 80, 75, 77, 89, 33, 45, 25, 65, 17, 30, 24, 57, 55, 70, 75, 65, 84, 90, 150. Посчитать (желательно без использования статистических методов наподобие std, var, mean) среднее арифметическое, среднее квадратичное отклонение, смещенную и несмещенную оценки дисперсий для данной выборки.**"
      ]
    },
    {
      "cell_type": "code",
      "metadata": {
        "id": "N3eJWKR9TgB1"
      },
      "source": [
        "nums = pd.Series([100, 80, 75, 77, 89, 33, 45, 25, 65, 17, 30, 24, 57, 55, 70, 75, 65, 84, 90, 150])"
      ],
      "execution_count": 3,
      "outputs": []
    },
    {
      "cell_type": "code",
      "metadata": {
        "id": "91FItk5GzdqS",
        "colab": {
          "base_uri": "https://localhost:8080/"
        },
        "outputId": "64e9f70e-126e-44b7-926d-a9820350c3dc"
      },
      "source": [
        "avg = sum(nums)/len(nums)\n",
        "avg  # среднее арифметическое"
      ],
      "execution_count": 4,
      "outputs": [
        {
          "output_type": "execute_result",
          "data": {
            "text/plain": [
              "65.3"
            ]
          },
          "metadata": {},
          "execution_count": 4
        }
      ]
    },
    {
      "cell_type": "code",
      "metadata": {
        "colab": {
          "base_uri": "https://localhost:8080/"
        },
        "id": "4FXy2sIUTcRr",
        "outputId": "232708f6-aa36-4d8e-dbaa-c91508228ef8"
      },
      "source": [
        "std = np.sqrt(((nums - avg) ** 2).sum() / nums.count())\n",
        "std  #среднее квадратичное отклонение"
      ],
      "execution_count": 5,
      "outputs": [
        {
          "output_type": "execute_result",
          "data": {
            "text/plain": [
              "30.823854398825596"
            ]
          },
          "metadata": {},
          "execution_count": 5
        }
      ]
    },
    {
      "cell_type": "code",
      "metadata": {
        "colab": {
          "base_uri": "https://localhost:8080/"
        },
        "id": "OZfKc8LQUANc",
        "outputId": "47a8c225-7e47-4645-e95e-540334c38648"
      },
      "source": [
        "variance = ((nums - avg) ** 2).sum() / nums.count()\n",
        "variance #дисперси"
      ],
      "execution_count": 6,
      "outputs": [
        {
          "output_type": "execute_result",
          "data": {
            "text/plain": [
              "950.11"
            ]
          },
          "metadata": {},
          "execution_count": 6
        }
      ]
    },
    {
      "cell_type": "code",
      "metadata": {
        "colab": {
          "base_uri": "https://localhost:8080/"
        },
        "id": "plLhi_b1UJ4k",
        "outputId": "7299042d-f3e9-4a8a-d78d-2b9378c0ebf2"
      },
      "source": [
        "variance2 = ((nums - avg) ** 2).sum() / (nums.count() - 1)\n",
        "variance2 #дисперси"
      ],
      "execution_count": 7,
      "outputs": [
        {
          "output_type": "execute_result",
          "data": {
            "text/plain": [
              "1000.1157894736842"
            ]
          },
          "metadata": {},
          "execution_count": 7
        }
      ]
    },
    {
      "cell_type": "markdown",
      "metadata": {
        "id": "RNFqesnVEMiV"
      },
      "source": [
        "**2. В первом ящике находится 8 мячей, из которых 5 - белые. Во втором ящике - 12 мячей, из которых 5 белых. Из первого ящика вытаскивают случайным образом два мяча, из второго - 4. Какова вероятность того, что 3 мяча белые?**\n"
      ]
    },
    {
      "cell_type": "code",
      "metadata": {
        "colab": {
          "base_uri": "https://localhost:8080/"
        },
        "id": "JhnWVQMPGUYY",
        "outputId": "7fe73aa9-bcb2-4727-e5d3-88e8533a92ce"
      },
      "source": [
        "# bel iz beluh*ostatok iz chernyh/vce iz vseh\n",
        "\n",
        "#busket1 00 busket2  111 \n",
        "p0 = ((combinations(5,0)*combinations(3,2))/combinations(8,2))*((combinations(5,3)*combinations(7,1))/combinations(12,4))\n",
        "\n",
        "#busket1 01 busket2  11\n",
        "p1 = ((combinations(5,1)*combinations(3,1))/combinations(8,2))*((combinations(5,2)*combinations(7,2))/combinations(12,4))\n",
        "\n",
        "#busket1 11 busket2  01\n",
        "p2 = ((combinations(5,2)*combinations(3,0))/combinations(8,2))*((combinations(5,1)*combinations(7,3))/combinations(12,4))\n",
        "\n",
        "pp=p0+p1+p2\n",
        "pp # вероятность того, что 3 мяча белые"
      ],
      "execution_count": 8,
      "outputs": [
        {
          "output_type": "execute_result",
          "data": {
            "text/plain": [
              "0.3686868686868687"
            ]
          },
          "metadata": {},
          "execution_count": 8
        }
      ]
    },
    {
      "cell_type": "markdown",
      "metadata": {
        "id": "E4pDy0uyCwAn"
      },
      "source": [
        "**3.На соревновании по биатлону один из трех спортсменов стреляет и попадает в мишень. Вероятность попадания для первого спортсмена равна 0.9, для второго — 0.8, для третьего — 0.6. Найти вероятность того, что выстрел произведен: a). первым спортсменом б). вторым спортсменом в). третьим спортсменом.**\n",
        "\n"
      ]
    },
    {
      "cell_type": "code",
      "metadata": {
        "colab": {
          "base_uri": "https://localhost:8080/"
        },
        "id": "4nID8Xo1fEVy",
        "outputId": "a1d49296-8b9a-47c3-ac5c-9b2bab84cb6d"
      },
      "source": [
        "pA = 1/3 * 0.9 + 1/3 * 0.8 + 1/3 * 0.6\n",
        "pA # kto-to popal"
      ],
      "execution_count": 9,
      "outputs": [
        {
          "output_type": "execute_result",
          "data": {
            "text/plain": [
              "0.7666666666666666"
            ]
          },
          "metadata": {},
          "execution_count": 9
        }
      ]
    },
    {
      "cell_type": "code",
      "metadata": {
        "colab": {
          "base_uri": "https://localhost:8080/"
        },
        "id": "TkvWuYP0XmUq",
        "outputId": "a262c6ac-820f-454f-c95b-0e0abf447910"
      },
      "source": [
        "1/3 * (0.9/pA) # Вероятность того, что выстрел произведен первым спортсменом"
      ],
      "execution_count": 10,
      "outputs": [
        {
          "output_type": "execute_result",
          "data": {
            "text/plain": [
              "0.391304347826087"
            ]
          },
          "metadata": {},
          "execution_count": 10
        }
      ]
    },
    {
      "cell_type": "code",
      "metadata": {
        "colab": {
          "base_uri": "https://localhost:8080/"
        },
        "id": "MPQM4Eg6l8gc",
        "outputId": "019f1590-c8a7-4645-effa-017bd47adc94"
      },
      "source": [
        "1/3 * (0.8/pA) # Вероятность того, что выстрел произведен вторым спортсменом"
      ],
      "execution_count": 11,
      "outputs": [
        {
          "output_type": "execute_result",
          "data": {
            "text/plain": [
              "0.3478260869565218"
            ]
          },
          "metadata": {},
          "execution_count": 11
        }
      ]
    },
    {
      "cell_type": "code",
      "metadata": {
        "colab": {
          "base_uri": "https://localhost:8080/"
        },
        "id": "vrxvUSVKicP3",
        "outputId": "e3806f84-18a9-408e-c42f-790d207a3b6c"
      },
      "source": [
        "1/3 * (0.6/pA) # Вероятность того, что выстрел произведен третьим спортсменом"
      ],
      "execution_count": 12,
      "outputs": [
        {
          "output_type": "execute_result",
          "data": {
            "text/plain": [
              "0.2608695652173913"
            ]
          },
          "metadata": {},
          "execution_count": 12
        }
      ]
    },
    {
      "cell_type": "markdown",
      "metadata": {
        "id": "2iwwZA-YCxnF"
      },
      "source": [
        "**4. В университет на факультеты A и B поступило равное количество студентов, а на факультет C студентов поступило столько же, сколько на A и B вместе. Вероятность того, что студент факультета A сдаст первую сессию, равна 0.8. Для студента факультета B эта вероятность равна 0.7, а для студента факультета C - 0.9. Студент сдал первую сессию. Какова вероятность, что он учится: a). на факультете A б). на факультете B в). на факультете C?**"
      ]
    },
    {
      "cell_type": "code",
      "metadata": {
        "colab": {
          "base_uri": "https://localhost:8080/"
        },
        "id": "w1L-OkTlPpR-",
        "outputId": "b205152c-b83a-490c-d8c3-b3722871e4e3"
      },
      "source": [
        "pA = 1/4 * 0.8 + 1/4 * 0.7 + 2/4 * 0.9\n",
        "pA # Студент сдал первую сессию"
      ],
      "execution_count": 13,
      "outputs": [
        {
          "output_type": "execute_result",
          "data": {
            "text/plain": [
              "0.825"
            ]
          },
          "metadata": {},
          "execution_count": 13
        }
      ]
    },
    {
      "cell_type": "code",
      "metadata": {
        "colab": {
          "base_uri": "https://localhost:8080/"
        },
        "id": "LcxhmS-RYcnC",
        "outputId": "406b443c-7fe4-4ed4-93e9-d0365bc83ec1"
      },
      "source": [
        "1/4*(0.8/pA) # он учится на факультете A"
      ],
      "execution_count": 14,
      "outputs": [
        {
          "output_type": "execute_result",
          "data": {
            "text/plain": [
              "0.24242424242424246"
            ]
          },
          "metadata": {},
          "execution_count": 14
        }
      ]
    },
    {
      "cell_type": "code",
      "metadata": {
        "colab": {
          "base_uri": "https://localhost:8080/"
        },
        "id": "U0FNlmO6Yrmg",
        "outputId": "518c429c-d1e2-4624-824e-b3cdce2ff45d"
      },
      "source": [
        "1/4*(0.7/pA) # он учится на факультете B"
      ],
      "execution_count": 15,
      "outputs": [
        {
          "output_type": "execute_result",
          "data": {
            "text/plain": [
              "0.21212121212121213"
            ]
          },
          "metadata": {},
          "execution_count": 15
        }
      ]
    },
    {
      "cell_type": "code",
      "metadata": {
        "colab": {
          "base_uri": "https://localhost:8080/"
        },
        "id": "Cei7--AuYxcH",
        "outputId": "63cc8bfa-fb6a-457f-b383-393f880255a7"
      },
      "source": [
        "1/2*(0.9/pA) # он учится на факультете C"
      ],
      "execution_count": 16,
      "outputs": [
        {
          "output_type": "execute_result",
          "data": {
            "text/plain": [
              "0.5454545454545455"
            ]
          },
          "metadata": {},
          "execution_count": 16
        }
      ]
    },
    {
      "cell_type": "markdown",
      "metadata": {
        "id": "0jSveg5jPqCV"
      },
      "source": [
        "**5. Устройство состоит из трех деталей. Для первой детали вероятность выйти из строя в первый месяц равна 0.1, для второй - 0.2, для третьей - 0.25. Какова вероятность того, что в первый месяц выйдут из строя: а). все детали б). только две детали в). хотя бы одна деталь г). от одной до двух деталей?**"
      ]
    },
    {
      "cell_type": "code",
      "metadata": {
        "colab": {
          "base_uri": "https://localhost:8080/"
        },
        "id": "BBl61cqURTGw",
        "outputId": "0a0b5e04-c853-4fd8-eadc-92c935c146d0"
      },
      "source": [
        "pp = 0.1*0.2*0.25\n",
        "pp # вероятность того, что в первый месяц выйдут из строя все детали "
      ],
      "execution_count": 17,
      "outputs": [
        {
          "output_type": "execute_result",
          "data": {
            "text/plain": [
              "0.005000000000000001"
            ]
          },
          "metadata": {},
          "execution_count": 17
        }
      ]
    },
    {
      "cell_type": "code",
      "metadata": {
        "colab": {
          "base_uri": "https://localhost:8080/"
        },
        "id": "b27_L6mTZbGO",
        "outputId": "35cdc9c1-abb1-48f0-b6e4-538f22431b64"
      },
      "source": [
        "# 1 i 2\n",
        "p1= 0.1*0.2*0.75 \n",
        "# 1 i 3\n",
        "p2= 0.1*0.8*0.25 \n",
        "# 2 i 3\n",
        "p3= 0.9*0.2*0.25\n",
        "pp=p1+p2+p3\n",
        "pp # только две детали"
      ],
      "execution_count": 18,
      "outputs": [
        {
          "output_type": "execute_result",
          "data": {
            "text/plain": [
              "0.08000000000000002"
            ]
          },
          "metadata": {},
          "execution_count": 18
        }
      ]
    },
    {
      "cell_type": "code",
      "metadata": {
        "colab": {
          "base_uri": "https://localhost:8080/"
        },
        "id": "Zjky3XnHavV-",
        "outputId": "079b1bf9-8775-448a-c91d-2c18fdf82185"
      },
      "source": [
        "pp=1-0.9*0.8*0.75\n",
        "pp # хотя бы одна деталь"
      ],
      "execution_count": 19,
      "outputs": [
        {
          "output_type": "execute_result",
          "data": {
            "text/plain": [
              "0.45999999999999996"
            ]
          },
          "metadata": {},
          "execution_count": 19
        }
      ]
    },
    {
      "cell_type": "code",
      "metadata": {
        "colab": {
          "base_uri": "https://localhost:8080/"
        },
        "id": "uL6AqDCPbYMl",
        "outputId": "bc59e4e4-0bd4-4536-d1f0-d463735408bd"
      },
      "source": [
        "pp=1-0.9*0.8*0.75-0.1*0.2*0.25\n",
        "pp # от одной до двух деталей"
      ],
      "execution_count": 20,
      "outputs": [
        {
          "output_type": "execute_result",
          "data": {
            "text/plain": [
              "0.45499999999999996"
            ]
          },
          "metadata": {},
          "execution_count": 20
        }
      ]
    }
  ]
}