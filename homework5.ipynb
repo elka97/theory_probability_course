{
  "nbformat": 4,
  "nbformat_minor": 0,
  "metadata": {
    "colab": {
      "name": "homework5.ipynb",
      "provenance": [],
      "collapsed_sections": [],
      "authorship_tag": "ABX9TyO/tjAPlCyhKXAXAV5+1ZGT",
      "include_colab_link": true
    },
    "kernelspec": {
      "name": "python3",
      "display_name": "Python 3"
    },
    "language_info": {
      "name": "python"
    }
  },
  "cells": [
    {
      "cell_type": "markdown",
      "metadata": {
        "id": "view-in-github",
        "colab_type": "text"
      },
      "source": [
        "<a href=\"https://colab.research.google.com/github/elka97/theory_probability_course/blob/main/homework5.ipynb\" target=\"_parent\"><img src=\"https://colab.research.google.com/assets/colab-badge.svg\" alt=\"Open In Colab\"/></a>"
      ]
    },
    {
      "cell_type": "markdown",
      "metadata": {
        "id": "qvTbim8w-mBz"
      },
      "source": [
        "Урок 5. Проверка статистических гипотез. P-значения. Доверительные интервалы. A/B-тестирование"
      ]
    },
    {
      "cell_type": "code",
      "metadata": {
        "id": "O0F6e97JFDwq"
      },
      "source": [
        "from math import factorial as factorial\n",
        "import numpy as np\n",
        "import pandas as pd\n",
        "import scipy.stats as st\n",
        "from scipy.stats import norm"
      ],
      "execution_count": 31,
      "outputs": []
    },
    {
      "cell_type": "markdown",
      "metadata": {
        "id": "UfY57m2VtERq"
      },
      "source": [
        "**1. Известно, что генеральная совокупность распределена нормально\n",
        "со средним квадратическим отклонением, равным 16.\n",
        "Найти доверительный интервал для оценки математического ожидания a с надежностью 0.95,\n",
        "если выборочная средняя M = 80, а объем выборки n = 256.**"
      ]
    },
    {
      "cell_type": "code",
      "metadata": {
        "id": "N3eJWKR9TgB1",
        "colab": {
          "base_uri": "https://localhost:8080/"
        },
        "outputId": "757aafae-f50c-4091-b2d0-d0d3e0a56c1d"
      },
      "source": [
        "sigma=16\n",
        "M=80\n",
        "n=256\n",
        "\n",
        "st.norm.interval(alpha=0.95, loc=M, scale=sigma/np.sqrt(n))"
      ],
      "execution_count": 67,
      "outputs": [
        {
          "output_type": "execute_result",
          "data": {
            "text/plain": [
              "(78.04003601545995, 81.95996398454005)"
            ]
          },
          "metadata": {},
          "execution_count": 67
        }
      ]
    },
    {
      "cell_type": "markdown",
      "metadata": {
        "id": "RNFqesnVEMiV"
      },
      "source": [
        "**2. В результате 10 независимых измерений некоторой величины X, выполненных с одинаковой точностью,\n",
        "получены опытные данные:\n",
        "6.9, 6.1, 6.2, 6.8, 7.5, 6.3, 6.4, 6.9, 6.7, 6.1\n",
        "Предполагая, что результаты измерений подчинены нормальному закону распределения вероятностей,\n",
        "оценить истинное значение величины X при помощи доверительного интервала, покрывающего это\n",
        "значение с доверительной вероятностью 0,95.**\n"
      ]
    },
    {
      "cell_type": "code",
      "metadata": {
        "colab": {
          "base_uri": "https://localhost:8080/"
        },
        "id": "JhnWVQMPGUYY",
        "outputId": "65c4b090-35a7-4412-8952-ceb76dea88bc"
      },
      "source": [
        "data = [6.9, 6.1, 6.2, 6.8, 7.5, 6.3, 6.4, 6.9, 6.7, 6.1]\n",
        "\n",
        "st.t.interval(alpha=0.95, df=10-1, loc=np.mean(data), scale=st.sem(data)) "
      ],
      "execution_count": 68,
      "outputs": [
        {
          "output_type": "execute_result",
          "data": {
            "text/plain": [
              "(6.267515851415713, 6.912484148584288)"
            ]
          },
          "metadata": {},
          "execution_count": 68
        }
      ]
    },
    {
      "cell_type": "markdown",
      "metadata": {
        "id": "F0x64YAyA2-w"
      },
      "source": [
        "Задачи 3,4 решаем через тест гипотезы."
      ]
    },
    {
      "cell_type": "markdown",
      "metadata": {
        "id": "E4pDy0uyCwAn"
      },
      "source": [
        "**3.Утверждается, что шарики для подшипников, изготовленные автоматическим станком, имеют средний диаметр 17 мм.\n",
        "Используя односторонний критерий с α=0,05, проверить эту гипотезу, если в выборке из n=100 шариков средний диаметр\n",
        "оказался равным 17.5 мм, а дисперсия известна и равна 4 кв. мм.**\n",
        "\n"
      ]
    },
    {
      "cell_type": "markdown",
      "metadata": {
        "id": "8NHOg3U9gpvx"
      },
      "source": [
        "H0 mu == mu0\n",
        "H1 mu > mu0\n"
      ]
    },
    {
      "cell_type": "code",
      "metadata": {
        "colab": {
          "base_uri": "https://localhost:8080/"
        },
        "id": "KusS7gpSnqK0",
        "outputId": "ad061b72-ba97-49af-cbbb-ff3989619b2d"
      },
      "source": [
        "zscore = norm.ppf(0.95)\n",
        "zscore"
      ],
      "execution_count": 69,
      "outputs": [
        {
          "output_type": "execute_result",
          "data": {
            "text/plain": [
              "1.6448536269514722"
            ]
          },
          "metadata": {},
          "execution_count": 69
        }
      ]
    },
    {
      "cell_type": "code",
      "metadata": {
        "colab": {
          "base_uri": "https://localhost:8080/"
        },
        "id": "bH2Cb1U-oOMx",
        "outputId": "4e6b17d9-ac95-4750-f439-0613144e5e5d"
      },
      "source": [
        "obzerved = (17.5 - 17) / (np.sqrt(4) * np.sqrt(100))\n",
        "obzerved"
      ],
      "execution_count": 70,
      "outputs": [
        {
          "output_type": "execute_result",
          "data": {
            "text/plain": [
              "0.025"
            ]
          },
          "metadata": {},
          "execution_count": 70
        }
      ]
    },
    {
      "cell_type": "markdown",
      "metadata": {
        "id": "42dd8KMKowt6"
      },
      "source": [
        "zscore < obzerved, t.e. prinimaem H1 "
      ]
    },
    {
      "cell_type": "markdown",
      "metadata": {
        "id": "2iwwZA-YCxnF"
      },
      "source": [
        "**4. Продавец утверждает, что средний вес пачки печенья составляет 200 г.\n",
        "Из партии извлечена выборка из 10 пачек. Вес каждой пачки составляет:\n",
        "202, 203, 199, 197, 195, 201, 200, 204, 194, 190.\n",
        "Известно, что их веса распределены нормально.\n",
        "Верно ли утверждение продавца, если учитывать, что доверительная вероятность равна 99%?**"
      ]
    },
    {
      "cell_type": "code",
      "metadata": {
        "id": "w1L-OkTlPpR-"
      },
      "source": [
        "data = [202, 203, 199, 197, 195, 201, 200, 204, 194, 190]"
      ],
      "execution_count": 71,
      "outputs": []
    },
    {
      "cell_type": "markdown",
      "metadata": {
        "id": "mMxMkZ7mqnah"
      },
      "source": [
        "H0 mu==mu0\n",
        "H1 mu!=mu0"
      ]
    },
    {
      "cell_type": "code",
      "metadata": {
        "id": "51gEomXawDw8"
      },
      "source": [
        "tscore: 3.25, -3.25"
      ],
      "execution_count": null,
      "outputs": []
    },
    {
      "cell_type": "code",
      "metadata": {
        "colab": {
          "base_uri": "https://localhost:8080/"
        },
        "id": "qWqEmPKtrBYQ",
        "outputId": "1ecb4cb5-483d-42d6-a687-358b6a662414"
      },
      "source": [
        "obzerved = (np.mean(data)-200) / (np.sqrt(np.array(data).var(ddof=1)) / np.sqrt(10))\n",
        "obzerved"
      ],
      "execution_count": 72,
      "outputs": [
        {
          "output_type": "execute_result",
          "data": {
            "text/plain": [
              "-1.0651074037450896"
            ]
          },
          "metadata": {},
          "execution_count": 72
        }
      ]
    },
    {
      "cell_type": "markdown",
      "metadata": {
        "id": "ojmUsEEFw2EE"
      },
      "source": [
        "H0 принимаем"
      ]
    }
  ]
}