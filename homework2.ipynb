{
  "nbformat": 4,
  "nbformat_minor": 0,
  "metadata": {
    "colab": {
      "name": "homework2.ipynb",
      "provenance": [],
      "collapsed_sections": [],
      "authorship_tag": "ABX9TyMKCWZsY2Dlq33ZwY7RbV+O",
      "include_colab_link": true
    },
    "kernelspec": {
      "name": "python3",
      "display_name": "Python 3"
    },
    "language_info": {
      "name": "python"
    }
  },
  "cells": [
    {
      "cell_type": "markdown",
      "metadata": {
        "id": "view-in-github",
        "colab_type": "text"
      },
      "source": [
        "<a href=\"https://colab.research.google.com/github/elka97/theory_probability_course/blob/main/homework2.ipynb\" target=\"_parent\"><img src=\"https://colab.research.google.com/assets/colab-badge.svg\" alt=\"Open In Colab\"/></a>"
      ]
    },
    {
      "cell_type": "markdown",
      "metadata": {
        "id": "qvTbim8w-mBz"
      },
      "source": [
        "Урок 2. Дискретные случайные величины. Закон распределения вероятностей. Биномиальный закон распределения. Распределение Пуассона"
      ]
    },
    {
      "cell_type": "markdown",
      "metadata": {
        "id": "OBwEEM-sjnwP"
      },
      "source": [
        "Формула Пуассона $$P_m \\approx \\frac{\\lambda^m}{m!}e^{-\\lambda}$$\n",
        "\n",
        "**где** $λ = np$\n",
        "\n"
      ]
    },
    {
      "cell_type": "markdown",
      "metadata": {
        "id": "2sDaou_4NXgS"
      },
      "source": [
        "Формула Бернулли $$P_n(X=k) = C_n^k p^k q^{n-k}$$\n",
        "\n"
      ]
    },
    {
      "cell_type": "code",
      "metadata": {
        "id": "O0F6e97JFDwq"
      },
      "source": [
        "from math import factorial as factorial\n",
        "import numpy as np\n",
        "\n",
        "# сочетания\n",
        "def combinations(k, n):\n",
        "    return factorial(n) / (factorial(k) * factorial(n - k))\n",
        "\n",
        "def puasson(m, n, p):\n",
        "    lambda_ = n * p\n",
        "    return (lambda_**m / factorial(m)) * np.exp(-lambda_)\n",
        "\n",
        "def bernulli(k, n, p):\n",
        "    q = 1 - p\n",
        "    return combinations(k, n) * p**k * q**(n - k)"
      ],
      "execution_count": 6,
      "outputs": []
    },
    {
      "cell_type": "markdown",
      "metadata": {
        "id": "UfY57m2VtERq"
      },
      "source": [
        "**1. Вероятность того, что стрелок попадет в мишень, выстрелив один раз, равна 0.8. Стрелок выстрелил 100 раз. Найдите вероятность того, что стрелок попадет в цель ровно 85 раз.**"
      ]
    },
    {
      "cell_type": "code",
      "metadata": {
        "id": "91FItk5GzdqS",
        "colab": {
          "base_uri": "https://localhost:8080/"
        },
        "outputId": "f98b8fb9-6e0a-44af-bc02-40f3dc5fe2b0"
      },
      "source": [
        "n = 100\n",
        "p = 0.8\n",
        "k = 85\n",
        "\n",
        "pp = bernulli(k, n, p)\n",
        "pp  # Вероятность того, что стрелок из ста выстрелов попадет в мишень ровно 85 раз"
      ],
      "execution_count": 7,
      "outputs": [
        {
          "output_type": "execute_result",
          "data": {
            "text/plain": [
              "0.048061793700746355"
            ]
          },
          "metadata": {},
          "execution_count": 7
        }
      ]
    },
    {
      "cell_type": "markdown",
      "metadata": {
        "id": "RNFqesnVEMiV"
      },
      "source": [
        "**2. Вероятность того, что лампочка перегорит в течение первого дня эксплуатации, равна 0.0004. В жилом комплексе после ремонта в один день включили 5000 новых лампочек. Какова вероятность, что ни одна из них не перегорит в первый день? Какова вероятность, что перегорят ровно две?**\n"
      ]
    },
    {
      "cell_type": "code",
      "metadata": {
        "colab": {
          "base_uri": "https://localhost:8080/"
        },
        "id": "4nID8Xo1fEVy",
        "outputId": "596d1a0d-49fb-4180-baf9-427a2837a488"
      },
      "source": [
        "n = 5000\n",
        "p = 0.0004\n",
        "\n",
        "m = 0\n",
        "\n",
        "pp = puasson(m, n, p)\n",
        "pp # вероятность, что ни одна из них не перегорит в первый день"
      ],
      "execution_count": 8,
      "outputs": [
        {
          "output_type": "execute_result",
          "data": {
            "text/plain": [
              "0.1353352832366127"
            ]
          },
          "metadata": {},
          "execution_count": 8
        }
      ]
    },
    {
      "cell_type": "code",
      "metadata": {
        "colab": {
          "base_uri": "https://localhost:8080/"
        },
        "id": "MPQM4Eg6l8gc",
        "outputId": "7b7f78aa-8d6c-4b87-e985-fcf095ed4ec8"
      },
      "source": [
        "m = 2\n",
        "\n",
        "pp = puasson(m, n, p)\n",
        "pp # вероятность, что перегорят ровно две"
      ],
      "execution_count": 9,
      "outputs": [
        {
          "output_type": "execute_result",
          "data": {
            "text/plain": [
              "0.2706705664732254"
            ]
          },
          "metadata": {},
          "execution_count": 9
        }
      ]
    },
    {
      "cell_type": "markdown",
      "metadata": {
        "id": "E4pDy0uyCwAn"
      },
      "source": [
        "**3. Монету подбросили 144 раза. Какова вероятность, что орел выпадет ровно 70 раз?**\n"
      ]
    },
    {
      "cell_type": "code",
      "metadata": {
        "colab": {
          "base_uri": "https://localhost:8080/"
        },
        "id": "vrxvUSVKicP3",
        "outputId": "82459ca8-a786-4ab0-9bf9-b991f14a9073"
      },
      "source": [
        "n = 144\n",
        "k = 70\n",
        "p = 0.5\n",
        "\n",
        "pp = bernulli(k, n, p)\n",
        "pp # вероятность, что орел выпадет ровно 70 раз"
      ],
      "execution_count": 11,
      "outputs": [
        {
          "output_type": "execute_result",
          "data": {
            "text/plain": [
              "0.06281178035144776"
            ]
          },
          "metadata": {},
          "execution_count": 11
        }
      ]
    },
    {
      "cell_type": "markdown",
      "metadata": {
        "id": "2iwwZA-YCxnF"
      },
      "source": [
        "**4. В первом ящике находится 10 мячей, из которых 7 - белые. Во втором ящике - 11 мячей, из которых 9 белых. Из каждого ящика вытаскивают случайным образом по два мяча. Какова вероятность того, что все мячи белые? Какова вероятность того, что ровно два мяча белые? Какова вероятность того, что хотя бы один мяч белый?**"
      ]
    },
    {
      "cell_type": "code",
      "metadata": {
        "colab": {
          "base_uri": "https://localhost:8080/"
        },
        "id": "dA0Dfwe0FkOJ",
        "outputId": "ba247d4f-f15d-4e42-d0b6-a94872f5fe32"
      },
      "source": [
        "pp= combinations(2, 7) / combinations(2, 10) * combinations(2, 9) / combinations(2, 11)\n",
        "pp #Какова вероятность того, что все мячи белые?"
      ],
      "execution_count": 12,
      "outputs": [
        {
          "output_type": "execute_result",
          "data": {
            "text/plain": [
              "0.3054545454545455"
            ]
          },
          "metadata": {},
          "execution_count": 12
        }
      ]
    },
    {
      "cell_type": "code",
      "metadata": {
        "id": "JhnWVQMPGUYY"
      },
      "source": [
        "# def combinations(k, n):\n",
        "#     return factorial(n) / (factorial(k) * factorial(n - k))\n",
        "\n",
        "PA31 = (combinations(7, 1) * factorial(3)) / (factorial(1)*factorial(3 - 1)) / (factorial(10) / (factorial(2)*factorial(10 - 2))) \n",
        "PA32 = (factorial(9) / (factorial(1)*v(9 - 1)) * factorial(2)) / (factorial(1)*factorial(2 - 1)) / (factorial(11) / (factorial(2)*factorial(11 - 2)))\n",
        "\n",
        "# вероятность того, что ровно два мяча белые"
      ],
      "execution_count": null,
      "outputs": []
    }
  ]
}