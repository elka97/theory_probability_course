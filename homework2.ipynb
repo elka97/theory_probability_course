{
  "nbformat": 4,
  "nbformat_minor": 0,
  "metadata": {
    "colab": {
      "name": "homework2.ipynb",
      "provenance": [],
      "collapsed_sections": [],
      "authorship_tag": "ABX9TyOYXkjyNQBenAzt5h1txa1L",
      "include_colab_link": true
    },
    "kernelspec": {
      "name": "python3",
      "display_name": "Python 3"
    },
    "language_info": {
      "name": "python"
    }
  },
  "cells": [
    {
      "cell_type": "markdown",
      "metadata": {
        "id": "view-in-github",
        "colab_type": "text"
      },
      "source": [
        "<a href=\"https://colab.research.google.com/github/elka97/theory_probability_course/blob/main/homework2.ipynb\" target=\"_parent\"><img src=\"https://colab.research.google.com/assets/colab-badge.svg\" alt=\"Open In Colab\"/></a>"
      ]
    },
    {
      "cell_type": "markdown",
      "metadata": {
        "id": "qvTbim8w-mBz"
      },
      "source": [
        "Урок 2. Дискретные случайные величины. Закон распределения вероятностей. Биномиальный закон распределения. Распределение Пуассона"
      ]
    },
    {
      "cell_type": "markdown",
      "metadata": {
        "id": "OBwEEM-sjnwP"
      },
      "source": [
        "Формула Пуассона $$P_m \\approx \\frac{\\lambda^m}{m!}e^{-\\lambda}$$\n",
        "\n",
        "**где** $λ = np$\n",
        "\n"
      ]
    },
    {
      "cell_type": "markdown",
      "metadata": {
        "id": "2sDaou_4NXgS"
      },
      "source": [
        "Формула Бернулли $$P_n(X=k) = C_n^k p^k q^{n-k}$$\n",
        "\n"
      ]
    },
    {
      "cell_type": "code",
      "metadata": {
        "id": "O0F6e97JFDwq"
      },
      "source": [
        "from math import factorial as factorial\n",
        "import numpy as np\n",
        "\n",
        "# сочетания\n",
        "def combinations(n, k):\n",
        "    return int(factorial(n) / (factorial(k) * factorial(n - k)))\n",
        "\n",
        "def puasson(m, n, p):\n",
        "    lambda_ = n * p\n",
        "    return (lambda_**m / factorial(m)) * np.exp(-lambda_)\n",
        "\n",
        "def bernulli(k, n, p):\n",
        "    q = 1 - p\n",
        "    return combinations(n, k) * p**k * q**(n - k)"
      ],
      "execution_count": 18,
      "outputs": []
    },
    {
      "cell_type": "markdown",
      "metadata": {
        "id": "UfY57m2VtERq"
      },
      "source": [
        "**1. Вероятность того, что стрелок попадет в мишень, выстрелив один раз, равна 0.8. Стрелок выстрелил 100 раз. Найдите вероятность того, что стрелок попадет в цель ровно 85 раз.**"
      ]
    },
    {
      "cell_type": "code",
      "metadata": {
        "id": "91FItk5GzdqS",
        "colab": {
          "base_uri": "https://localhost:8080/"
        },
        "outputId": "c78b0a62-d682-4c3d-cc4b-045062bcf97f"
      },
      "source": [
        "n = 100\n",
        "p = 0.8\n",
        "k = 85\n",
        "\n",
        "pp = bernulli(k, n, p)\n",
        "pp  # Вероятность того, что стрелок из ста выстрелов попадет в мишень ровно 85 раз"
      ],
      "execution_count": 19,
      "outputs": [
        {
          "output_type": "execute_result",
          "data": {
            "text/plain": [
              "0.048061793700746355"
            ]
          },
          "metadata": {},
          "execution_count": 19
        }
      ]
    },
    {
      "cell_type": "markdown",
      "metadata": {
        "id": "RNFqesnVEMiV"
      },
      "source": [
        "**2. Вероятность того, что лампочка перегорит в течение первого дня эксплуатации, равна 0.0004. В жилом комплексе после ремонта в один день включили 5000 новых лампочек. Какова вероятность, что ни одна из них не перегорит в первый день? Какова вероятность, что перегорят ровно две?**\n"
      ]
    },
    {
      "cell_type": "code",
      "metadata": {
        "colab": {
          "base_uri": "https://localhost:8080/"
        },
        "id": "4nID8Xo1fEVy",
        "outputId": "0caecf60-908e-4811-acb1-71615299d2f5"
      },
      "source": [
        "n = 5000\n",
        "p = 0.0004\n",
        "\n",
        "m = 0\n",
        "\n",
        "pp = puasson(m, n, p)\n",
        "pp # вероятность, что ни одна из них не перегорит в первый день"
      ],
      "execution_count": 21,
      "outputs": [
        {
          "output_type": "execute_result",
          "data": {
            "text/plain": [
              "0.1353352832366127"
            ]
          },
          "metadata": {},
          "execution_count": 21
        }
      ]
    },
    {
      "cell_type": "code",
      "metadata": {
        "colab": {
          "base_uri": "https://localhost:8080/"
        },
        "id": "MPQM4Eg6l8gc",
        "outputId": "aabe7280-2f1b-4e7c-dadd-4250d6dff8f7"
      },
      "source": [
        "m = 2\n",
        "\n",
        "pp = puasson(m, n, p)\n",
        "pp # вероятность, что перегорят ровно две"
      ],
      "execution_count": 22,
      "outputs": [
        {
          "output_type": "execute_result",
          "data": {
            "text/plain": [
              "0.2706705664732254"
            ]
          },
          "metadata": {},
          "execution_count": 22
        }
      ]
    },
    {
      "cell_type": "markdown",
      "metadata": {
        "id": "E4pDy0uyCwAn"
      },
      "source": [
        "**3. Монету подбросили 144 раза. Какова вероятность, что орел выпадет ровно 70 раз?**\n"
      ]
    },
    {
      "cell_type": "code",
      "metadata": {
        "colab": {
          "base_uri": "https://localhost:8080/"
        },
        "id": "vrxvUSVKicP3",
        "outputId": "2f2529d7-8730-44a2-d026-018f79d2b4d6"
      },
      "source": [
        "n = 144\n",
        "k = 70\n",
        "p = 0.5\n",
        "\n",
        "pp = bernulli(k, n, p)\n",
        "pp # вероятность, что орел выпадет ровно 70 раз"
      ],
      "execution_count": 23,
      "outputs": [
        {
          "output_type": "execute_result",
          "data": {
            "text/plain": [
              "0.06281178035144776"
            ]
          },
          "metadata": {},
          "execution_count": 23
        }
      ]
    },
    {
      "cell_type": "markdown",
      "metadata": {
        "id": "2iwwZA-YCxnF"
      },
      "source": [
        "**4. В первом ящике находится 10 мячей, из которых 7 - белые. Во втором ящике - 11 мячей, из которых 9 белых. Из каждого ящика вытаскивают случайным образом по два мяча. Какова вероятность того, что все мячи белые? Какова вероятность того, что ровно два мяча белые? Какова вероятность того, что хотя бы один мяч белый?**"
      ]
    },
    {
      "cell_type": "code",
      "metadata": {
        "colab": {
          "base_uri": "https://localhost:8080/"
        },
        "id": "dA0Dfwe0FkOJ",
        "outputId": "e27a9422-997f-47da-a1e4-82d22b575d9c"
      },
      "source": [
        "pp= combinations(7, 2) / combinations(10, 2) * combinations(9, 2) / combinations(11, 2)\n",
        "pp # Какова вероятность того, что все мячи белые?"
      ],
      "execution_count": 24,
      "outputs": [
        {
          "output_type": "execute_result",
          "data": {
            "text/plain": [
              "0.3054545454545455"
            ]
          },
          "metadata": {},
          "execution_count": 24
        }
      ]
    },
    {
      "cell_type": "code",
      "metadata": {
        "colab": {
          "base_uri": "https://localhost:8080/"
        },
        "id": "JhnWVQMPGUYY",
        "outputId": "80dacc64-f774-41a3-abb9-0c3b8f98fcfc"
      },
      "source": [
        "# bel iz beluh*ostatok iz chernyh/vce iz vseh\n",
        "\n",
        "#busket1 00 busket2  11 \n",
        "p02 = ((combinations(7,0)*combinations(3,2))/combinations(10,2))*((combinations(9,2)*combinations(2,0))/combinations(11,2))\n",
        "\n",
        "#busket1 11 busket2  00\n",
        "p20 = ((combinations(7,2)*combinations(3,0))/combinations(10,2))*((combinations(9,0)*combinations(2,2))/combinations(11,2))\n",
        "\n",
        "#busket1 01 busket2  01\n",
        "p11 = ((combinations(7,1)*combinations(3,1))/combinations(10,2))*((combinations(9,1)*combinations(2,1))/combinations(11,2))\n",
        "\n",
        "pp=p02+p20+p11\n",
        "pp # вероятность того, что ровно два мяча белые"
      ],
      "execution_count": 47,
      "outputs": [
        {
          "output_type": "execute_result",
          "data": {
            "text/plain": [
              "0.20484848484848486"
            ]
          },
          "metadata": {},
          "execution_count": 47
        }
      ]
    },
    {
      "cell_type": "code",
      "metadata": {
        "colab": {
          "base_uri": "https://localhost:8080/"
        },
        "id": "BBl61cqURTGw",
        "outputId": "371fa3f0-65fd-4438-89b9-240130dcb650"
      },
      "source": [
        "# 5 variantov\n",
        "pp = 1- (combinations(3,2)/combinations(10,2))*(combinations(2,2)/combinations(11,2))\n",
        "pp # вероятность того, что хотя бы один мяч белый"
      ],
      "execution_count": 42,
      "outputs": [
        {
          "output_type": "execute_result",
          "data": {
            "text/plain": [
              "0.9987878787878788"
            ]
          },
          "metadata": {},
          "execution_count": 42
        }
      ]
    }
  ]
}